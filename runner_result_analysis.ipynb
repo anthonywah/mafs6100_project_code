{
 "cells": [
  {
   "cell_type": "code",
   "execution_count": null,
   "id": "4eef3233-ce5d-4cf8-b69c-28067ef08b69",
   "metadata": {},
   "outputs": [],
   "source": [
    "from main.runner_eval import *\n",
    "from sklearn.linear_model import LinearRegression\n",
    "import matplotlib.pyplot as plt\n",
    "import matplotlib.ticker"
   ]
  },
  {
   "cell_type": "markdown",
   "id": "7f1f7516-66ee-41bb-bad6-c1711d7cd171",
   "metadata": {},
   "source": [
    "### Config"
   ]
  },
  {
   "cell_type": "code",
   "execution_count": null,
   "id": "ad7a3fce-81fa-40ed-9afc-940930862ed9",
   "metadata": {},
   "outputs": [],
   "source": [
    "# prefix specified in the runner\n",
    "target_run_prefix = 'w_fut'\n",
    "\n",
    "# label col name to be analyzed\n",
    "target_label_col = 'del_M_60'\n",
    "\n",
    "# job name specified in the runner\n",
    "target_job_name = 'rolling_90_training_raw_features'\n",
    "\n",
    "# target stock to be analyzed\n",
    "target_file_name = 'step1_0050.csv.pklz'\n",
    "\n",
    "# model name specified in the runner\n",
    "target_model = 'LinearRegression'\n",
    "\n",
    "# Only useful in rolling regression problem\n",
    "target_up_pct = 85\n",
    "target_dn_pct = 15"
   ]
  },
  {
   "cell_type": "code",
   "execution_count": null,
   "id": "bd8aa8f5-a281-4220-96ca-763e34f15929",
   "metadata": {},
   "outputs": [],
   "source": [
    "analysis_pipeline(input_run_prefix=target_run_prefix, \n",
    "                  input_label_col=target_label_col, \n",
    "                  input_job_name=target_job_name, \n",
    "                  input_file_name=target_file_name, \n",
    "                  input_model=target_model, \n",
    "                  input_up_pct=target_up_pct, \n",
    "                  input_dn_pct=target_dn_pct)"
   ]
  },
  {
   "cell_type": "code",
   "execution_count": null,
   "id": "c483035d-cec1-43ad-bb59-af02a270f5b1",
   "metadata": {},
   "outputs": [],
   "source": []
  }
 ],
 "metadata": {
  "kernelspec": {
   "display_name": "Python 3 (ipykernel)",
   "language": "python",
   "name": "python3"
  },
  "language_info": {
   "codemirror_mode": {
    "name": "ipython",
    "version": 3
   },
   "file_extension": ".py",
   "mimetype": "text/x-python",
   "name": "python",
   "nbconvert_exporter": "python",
   "pygments_lexer": "ipython3",
   "version": "3.8.1"
  }
 },
 "nbformat": 4,
 "nbformat_minor": 5
}
