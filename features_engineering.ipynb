{
 "cells": [
  {
   "cell_type": "markdown",
   "id": "72f7c77e-8651-4c58-86d2-27e801e2ada4",
   "metadata": {},
   "source": [
    "# Features Engineering"
   ]
  },
  {
   "cell_type": "code",
   "execution_count": null,
   "id": "e226b36c-c052-4359-9490-0635d4b1b06d",
   "metadata": {},
   "outputs": [],
   "source": [
    "from utilities.data_factory import *\n",
    "from utilities.models import *\n",
    "from utilities.pca_helper import *\n",
    "from sklearn.decomposition import PCA\n",
    "import matplotlib.pyplot as plt\n",
    "import matplotlib.ticker\n",
    "import seaborn as sns"
   ]
  },
  {
   "cell_type": "code",
   "execution_count": null,
   "id": "01b482a5-debe-429a-982f-568ede289af4",
   "metadata": {},
   "outputs": [],
   "source": [
    "# Use 0050 as example\n",
    "df = read_one_file(input_file_name='step1_0050.csv.pklz')\n",
    "labels_col = get_raw_labels()\n",
    "features_col = get_raw_features()"
   ]
  },
  {
   "cell_type": "markdown",
   "id": "58d0cd67-b135-485c-8342-79fa78cb3d34",
   "metadata": {},
   "source": [
    "___"
   ]
  },
  {
   "cell_type": "markdown",
   "id": "2bfc1ea4-a988-4c5f-b8a8-2b079831d763",
   "metadata": {
    "tags": []
   },
   "source": [
    "### Correlation Analysis"
   ]
  },
  {
   "cell_type": "code",
   "execution_count": null,
   "id": "3f1d141c-7aa3-4a90-bd64-cb3c7734669a",
   "metadata": {},
   "outputs": [],
   "source": [
    "features_df = df[features_col].copy()\n",
    "corr_df = features_df.corr().round(4)\n",
    "plt.figure(figsize=(30, 15), dpi=80)\n",
    "sns.heatmap(corr_df, annot=False, fmt='.4f', center=0, annot_kws={\"fontsize\": 2})\n",
    "plt.title('Features Correlation')\n",
    "plt.tight_layout()\n",
    "plt.show()"
   ]
  },
  {
   "cell_type": "markdown",
   "id": "6615e154-1cd8-45c7-bafc-1f616d7d7edc",
   "metadata": {},
   "source": [
    "___"
   ]
  },
  {
   "cell_type": "markdown",
   "id": "dc9ef383-c396-409e-907c-e25b14130397",
   "metadata": {
    "tags": []
   },
   "source": [
    "### PCA Stability analysis"
   ]
  },
  {
   "cell_type": "code",
   "execution_count": null,
   "id": "1d504daa-a6ea-4a81-87c6-3f66a92378ae",
   "metadata": {
    "scrolled": true,
    "tags": []
   },
   "outputs": [],
   "source": [
    "interval_list = [5, 10, 20, 40]\n",
    "files_list = ['step1_0050.csv.pklz', 'step1_2330.csv.pklz', 'step1_2603.csv.pklz']\n",
    "target_thres = 0.99\n",
    "res_dict = {}\n",
    "fig = plt.figure(figsize=(40, 20), dpi=80)\n",
    "count = 1\n",
    "for one_file in files_list:\n",
    "    df = DataFactory(input_file_name=one_file).df\n",
    "    res_dict[one_file] = {}\n",
    "    for one_interval in interval_list:\n",
    "        res_df = get_pca_components_stability(input_df=df, \n",
    "                                              input_interval=one_interval, \n",
    "                                              input_thres=target_thres)\n",
    "        res_dict[one_file][one_interval] = res_df\n",
    "        log_info(f'Got all result of {one_file} - {one_interval} - {target_thres}')\n",
    "        ax = fig.add_subplot(len(files_list), len(interval_list), count)\n",
    "        ax.plot(res_df['start_date'], res_df['n_components'])\n",
    "        ax.set_title(f'{one_file} | {one_interval} days | {target_thres * 100}% PCA Components #', fontsize=14)\n",
    "        locator = matplotlib.ticker.MaxNLocator(prune='both', nbins=5)\n",
    "        ax.xaxis.set_major_locator(locator)\n",
    "        plt.grid(True)\n",
    "        count += 1\n",
    "plt.tight_layout()\n",
    "plt.show()"
   ]
  },
  {
   "cell_type": "code",
   "execution_count": null,
   "id": "04a9634a-9a8b-40b1-bbee-205eb8ac63e2",
   "metadata": {},
   "outputs": [],
   "source": [
    "one_interval = 7\n",
    "files_list = ['step1_0050.csv.pklz', 'step1_2330.csv.pklz', 'step1_2603.csv.pklz']\n",
    "target_n_components = 10\n",
    "res_dict = {}\n",
    "fig = plt.figure(figsize=(40, 30), dpi=80)\n",
    "count = 1\n",
    "for one_file in files_list:\n",
    "    df = DataFactory(input_file_name=one_file).df\n",
    "    res_df = get_pca_explained_var_stability(input_df=df, \n",
    "                                             input_interval=one_interval, \n",
    "                                             input_n_components=target_n_components)\n",
    "    res_dict[one_file][one_interval] = res_df\n",
    "    log_info(f'Got all result of {one_file} - {one_interval} - {target_thres}')\n",
    "    fig.add_subplot(len(files_list), 1, count)\n",
    "    for i in range(len(target_n_components)):\n",
    "        plt.plot(res_df['test_date'], res_df[f'PC{i + 1}'], label=f'PC{i + 1}')\n",
    "    plt.plot(res_df['test_date'], res_df['total'], label='Total')\n",
    "    plt.title(f'{one_file} | {one_interval} days | {target_n_components} PCA Components Explained Variance', fontsize=14)\n",
    "    locator = matplotlib.ticker.MaxNLocator(prune='both', nbins=5)\n",
    "    plt.xaxis.set_major_locator(locator)\n",
    "    plt.grid(True)\n",
    "    count += 1\n",
    "plt.tight_layout()\n",
    "plt.show()"
   ]
  },
  {
   "cell_type": "code",
   "execution_count": null,
   "id": "65f58fe8-6140-4696-895b-033cea85a341",
   "metadata": {},
   "outputs": [],
   "source": []
  }
 ],
 "metadata": {
  "kernelspec": {
   "display_name": "Python 3 (ipykernel)",
   "language": "python",
   "name": "python3"
  },
  "language_info": {
   "codemirror_mode": {
    "name": "ipython",
    "version": 3
   },
   "file_extension": ".py",
   "mimetype": "text/x-python",
   "name": "python",
   "nbconvert_exporter": "python",
   "pygments_lexer": "ipython3",
   "version": "3.8.1"
  }
 },
 "nbformat": 4,
 "nbformat_minor": 5
}